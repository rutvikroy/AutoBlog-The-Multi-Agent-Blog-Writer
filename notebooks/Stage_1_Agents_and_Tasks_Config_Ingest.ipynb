{
 "cells": [
  {
   "cell_type": "code",
   "execution_count": 2,
   "id": "478d5621",
   "metadata": {},
   "outputs": [],
   "source": [
    "import os"
   ]
  },
  {
   "cell_type": "code",
   "execution_count": 3,
   "id": "242e0454",
   "metadata": {},
   "outputs": [
    {
     "data": {
      "text/plain": [
       "'a:\\\\AutoBlog-The-Multi-Agent-Blog-Writer\\\\notebooks'"
      ]
     },
     "execution_count": 3,
     "metadata": {},
     "output_type": "execute_result"
    }
   ],
   "source": [
    "%pwd"
   ]
  },
  {
   "cell_type": "code",
   "execution_count": 4,
   "id": "0615c4b9",
   "metadata": {},
   "outputs": [],
   "source": [
    "os.chdir(\"../\")"
   ]
  },
  {
   "cell_type": "code",
   "execution_count": 5,
   "id": "acb917a8",
   "metadata": {},
   "outputs": [
    {
     "data": {
      "text/plain": [
       "'a:\\\\AutoBlog-The-Multi-Agent-Blog-Writer'"
      ]
     },
     "execution_count": 5,
     "metadata": {},
     "output_type": "execute_result"
    }
   ],
   "source": [
    "%pwd"
   ]
  },
  {
   "cell_type": "markdown",
   "id": "3e80addd",
   "metadata": {},
   "source": [
    "Step 1: Import Necessary Libraries and Modules"
   ]
  },
  {
   "cell_type": "code",
   "execution_count": 6,
   "id": "8d777c86",
   "metadata": {},
   "outputs": [
    {
     "name": "stdout",
     "output_type": "stream",
     "text": [
      "[2025-09-01 19:23:32,233 : INFO: HTTP Request: GET https://raw.githubusercontent.com/BerriAI/litellm/main/model_prices_and_context_window.json \"HTTP/1.1 200 OK\"]\n"
     ]
    }
   ],
   "source": [
    "from llmProject.constants import AGENTS_FILE_PATH, TASKS_FILE_PATH\n",
    "from llmProject.utils.common import read_yaml\n",
    "from crewai import Agent, Task, crew, llm\n",
    "from pydantic import BaseModel"
   ]
  },
  {
   "cell_type": "code",
   "execution_count": 7,
   "id": "4bfa26b9",
   "metadata": {},
   "outputs": [],
   "source": [
    "class AgentConfig(BaseModel):\n",
    "    agent_name: str\n",
    "    agent_role: str\n",
    "    agent_goal: str\n",
    "    agent_backstory: str"
   ]
  },
  {
   "cell_type": "code",
   "execution_count": 8,
   "id": "20922755",
   "metadata": {},
   "outputs": [],
   "source": [
    "class TaskConfig(BaseModel):\n",
    "    task_name: str\n",
    "    task_description: str\n",
    "    task_output: str\n",
    "    task_agent: str"
   ]
  },
  {
   "cell_type": "code",
   "execution_count": null,
   "id": "7cee3037",
   "metadata": {},
   "outputs": [],
   "source": [
    "class ConfigurationManager:\n",
    "    def __init__(self, agents_file_path=AGENTS_FILE_PATH, tasks_file_path=TASKS_FILE_PATH):\n",
    "        self.agents_config = read_yaml(agents_file_path)\n",
    "        self.tasks_config = read_yaml(tasks_file_path)\n",
    "\n",
    "    def get_research_agent_config(self) -> AgentConfig:\n",
    "        research_agent = AgentConfig(\n",
    "            agent_name=\"researcher_agent\",\n",
    "            agent_role=self.agents_config.researcher_agent.role,\n",
    "            agent_goal=self.agents_config.researcher_agent.goal,\n",
    "            agent_backstory=self.agents_config.researcher_agent.backstory\n",
    "        )\n",
    "        return research_agent\n",
    "    \n",
    "    def get_reporting_agent_config(self) -> AgentConfig:\n",
    "        reporting_agent = AgentConfig(\n",
    "            agent_name=\"reporting_agent\",\n",
    "            agent_role=self.agents_config.reporting_agent.role,\n",
    "            agent_goal=self.agents_config.reporting_agent.goal,\n",
    "            agent_backstory=self.agents_config.reporting_agent.backstory\n",
    "        )\n",
    "        return reporting_agent\n",
    "\n",
    "    def get_editor_agent_config(self) -> AgentConfig:\n",
    "        editor_agent = AgentConfig(\n",
    "            agent_name=\"editor_agent\",\n",
    "            agent_role=self.agents_config.editor_agent.role,\n",
    "            agent_goal=self.agents_config.editor_agent.goal,\n",
    "            agent_backstory=self.agents_config.editor_agent.backstory\n",
    "        )\n",
    "        return editor_agent\n",
    "    \n",
    "    def get_research_task_config(self) -> TaskConfig:\n",
    "        research_task = TaskConfig(\n",
    "            task_name=\"research_task\",\n",
    "            task_description=self.tasks_config.research_task.description,\n",
    "            task_output=self.tasks_config.research_task.expected_output,\n",
    "            tasktask_agent_backstory=self.tasks_config.research_task.agent\n",
    "        )\n",
    "        return research_task\n",
    "    \n",
    "    def get_report_task_config(self) -> TaskConfig:\n",
    "        research_task = TaskConfig(\n",
    "            task_name=\"report_task\",\n",
    "            task_description=self.tasks_config.report_task.description,\n",
    "            task_output=self.tasks_config.report_task.expected_output,\n",
    "            tasktask_agent_backstory=self.tasks_config.report_task.agent\n",
    "        )\n",
    "        return research_task\n",
    "    \n",
    "    def get_edit_task_config(self) -> TaskConfig:\n",
    "        research_task = TaskConfig(\n",
    "            task_name=\"edit_task\",\n",
    "            task_description=self.tasks_config.edit_task.description,\n",
    "            task_output=self.tasks_config.edit_task.expected_output,\n",
    "            tasktask_agent_backstory=self.tasks_config.edit_task.agent\n",
    "        )\n",
    "        return research_task\n"
   ]
  },
  {
   "cell_type": "code",
   "execution_count": 10,
   "id": "9d1c7da3",
   "metadata": {},
   "outputs": [
    {
     "name": "stdout",
     "output_type": "stream",
     "text": [
      "[2025-09-01 19:23:35,625 : INFO: yaml file: config\\agents.yaml loaded successfully]\n",
      "[2025-09-01 19:23:35,634 : INFO: yaml file: config\\tasks.yaml loaded successfully]\n",
      "Agent name:  researcher_agent\n",
      "Agent role:  {topic} Senior Content Research Specialist\n",
      "Agent goal:  Conduct comprehensive research and analysis on {topic}\n",
      "Agent backstory:  A dedicated research professional with years of experience in {topic}, skilled at gathering insights, analyzing trends, and synthesizing findings for high-quality content creation.\n"
     ]
    }
   ],
   "source": [
    "config_manager = ConfigurationManager()\n",
    "research_agent = config_manager.get_research_agent_config()\n",
    "print(\"Agent name: \", research_agent.agent_name)\n",
    "print(\"Agent role: \",research_agent.agent_role)\n",
    "print(\"Agent goal: \",research_agent.agent_goal)\n",
    "print(\"Agent backstory: \",research_agent.agent_backstory)"
   ]
  }
 ],
 "metadata": {
  "kernelspec": {
   "display_name": "llmproject",
   "language": "python",
   "name": "python3"
  },
  "language_info": {
   "codemirror_mode": {
    "name": "ipython",
    "version": 3
   },
   "file_extension": ".py",
   "mimetype": "text/x-python",
   "name": "python",
   "nbconvert_exporter": "python",
   "pygments_lexer": "ipython3",
   "version": "3.11.13"
  }
 },
 "nbformat": 4,
 "nbformat_minor": 5
}
